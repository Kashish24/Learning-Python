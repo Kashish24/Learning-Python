{
 "cells": [
  {
   "cell_type": "code",
   "execution_count": 1,
   "metadata": {},
   "outputs": [],
   "source": [
    "import json\n",
    "import pandas as pd\n",
    "fp = open(r\"C:\\Users\\hp\\Desktop\\python_spyder\\Shashank\\SWC\\jsons\\Ongoing\\TTCSWCAPP1600.json\",\"r\")\n",
    "f = json.load(fp)\n",
    "sheet = pd.read_excel(r'C:\\Users\\hp\\Desktop\\python_spyder\\Shashank\\SWC\\Table_Details.xlsx')\n",
    "z=0\n",
    "for i in range(len(sheet.index)):\n",
    "    f['InterfaceId']='TTCSWC'+sheet.loc[i]['SourceTableName'][:3]+sheet.loc[i]['SourceTableName'][-3:]+str(i+1)\n",
    "    f['RelatedInterfaceID'] = 'TTCSWC'+sheet.loc[i]['SourceTableName'][:3]+sheet.loc[i]['SourceTableName'][-3:]+str(i+1)+'_OT'\n",
    "    key = sheet.loc[i]['KeyColumns']\n",
    "    keys = key.split(',')\n",
    "    for j in  range(len(keys)):\n",
    "        f['KeyColumns'].append(keys[j])\n",
    "    f['IngestionPatternConfiguration']['Batch']['SourceTableName'] = str(sheet.loc[i]['SourceTableName']).strip()\n",
    "    f['IngestionPatternConfiguration']['Batch']['FileNamePattern'] = 'BHP_TTC_SWC_'+str(sheet.loc[i]['SourceTableName']).strip()+'_YYYY-MM-DD_HH24-MI-SS'\n",
    "    f['RawCleansedLayerTBLName'] = str(sheet.loc[i]['SourceTableName']).strip() + '_av'\n",
    "    name = 'TTCSWC'+sheet.loc[i]['SourceTableName'][:3]+sheet.loc[i]['SourceTableName'][-3:]+str(i+1) + '.json'\n",
    "    with open(name, 'w') as xyz:\n",
    "        json.dump(f, xyz, indent = 8, ensure_ascii = False, separators = (',',': '))\n",
    "        z+=1\n",
    "    f['KeyColumns'].clear()"
   ]
  },
  {
   "cell_type": "code",
   "execution_count": null,
   "metadata": {},
   "outputs": [],
   "source": []
  }
 ],
 "metadata": {
  "kernelspec": {
   "display_name": "Python 3",
   "language": "python",
   "name": "python3"
  },
  "language_info": {
   "codemirror_mode": {
    "name": "ipython",
    "version": 3
   },
   "file_extension": ".py",
   "mimetype": "text/x-python",
   "name": "python",
   "nbconvert_exporter": "python",
   "pygments_lexer": "ipython3",
   "version": "3.7.7"
  }
 },
 "nbformat": 4,
 "nbformat_minor": 4
}
